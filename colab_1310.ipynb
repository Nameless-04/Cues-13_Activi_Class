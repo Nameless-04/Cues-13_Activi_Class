{
  "nbformat": 4,
  "nbformat_minor": 0,
  "metadata": {
    "colab": {
      "name": "colab_1310.ipynb",
      "provenance": []
    },
    "kernelspec": {
      "name": "python3",
      "display_name": "Python 3"
    },
    "language_info": {
      "name": "python"
    }
  },
  "cells": [
    {
      "cell_type": "code",
      "metadata": {
        "id": "RP8ud97vH698"
      },
      "source": [
        "class Queue:\n",
        "    def __init__(self, ):\n",
        "        self.data = []\n",
        "\n",
        "\n",
        "    def is_empty ( self):\n",
        "        return len (self.data)\n",
        "\n",
        "    def length(self ):\n",
        "        return len (self.data) == 0\n",
        "\n",
        "    def enqueue(self, value):\n",
        "        self.data.append(value)\n",
        "\n",
        "    def degueue( self ):\n",
        "        return self.data.pop(0)\n",
        "\n",
        "    def to_string( self ):\n",
        "        for elem in self.data:\n",
        "            print(f\"| { elem } | <---\" , end=\"\")\n",
        "        print(\"\")\n",
        "\n"
      ],
      "execution_count": 40,
      "outputs": []
    },
    {
      "cell_type": "code",
      "metadata": {
        "colab": {
          "base_uri": "https://localhost:8080/"
        },
        "id": "WMmpQfczMidz",
        "outputId": "f48ee7f2-671d-462f-b0c8-631f5dc6edbd"
      },
      "source": [
        "#help(list.pop)\n",
        "cola =  Queue()\n",
        "print( \" esta vacio? \" , cola.is_empty())\n",
        "print(\"numero de elemntos = \" , cola.length())\n",
        "cola.enqueue(10)\n",
        "cola.enqueue(20)\n",
        "cola.enqueue(30)\n",
        "print( \" esta vacio? \" , cola.is_empty())\n",
        "print(\"numero de elemntos = \" , cola.length())\n",
        "cola.enqueue(40)\n",
        "cola.enqueue(50)\n",
        "cola.enqueue(60)\n",
        "cola.to_string()\n",
        "siguiente = cola.degueue()\n",
        "print(\"atendiendo a:\" , siguiente)\n",
        "cola.to_string()\n"
      ],
      "execution_count": 41,
      "outputs": [
        {
          "output_type": "stream",
          "name": "stdout",
          "text": [
            " esta vacio?  0\n",
            "numero de elemntos =  True\n",
            " esta vacio?  3\n",
            "numero de elemntos =  False\n",
            "| 10 | <---| 20 | <---| 30 | <---| 40 | <---| 50 | <---| 60 | <---\n",
            "atendiendo a: 10\n",
            "| 20 | <---| 30 | <---| 40 | <---| 50 | <---| 60 | <---\n"
          ]
        }
      ]
    },
    {
      "cell_type": "markdown",
      "metadata": {
        "id": "VH1T5tEPQjOu"
      },
      "source": [
        "# Variantes del ADT Cola\n",
        "1. circulares \n",
        "2. Prioridad\n",
        "  1. acotada\n",
        "  2. no acotada"
      ]
    }
  ]
}